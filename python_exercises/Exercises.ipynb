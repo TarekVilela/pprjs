{
 "cells": [
  {
   "cell_type": "markdown",
   "metadata": {},
   "source": [
    "<h2>Introduction"
   ]
  },
  {
   "cell_type": "markdown",
   "metadata": {},
   "source": [
    "<h3>Exercício 1"
   ]
  },
  {
   "cell_type": "code",
   "execution_count": 2,
   "metadata": {},
   "outputs": [
    {
     "name": "stdout",
     "output_type": "stream",
     "text": [
      "Nome: Tarek Vilela\n",
      "Email: tarek_vilela@hotmail.com\n"
     ]
    }
   ],
   "source": [
    "print('Nome: Tarek Vilela')\n",
    "print('Email: tarek_vilela@hotmail.com')"
   ]
  },
  {
   "cell_type": "markdown",
   "metadata": {},
   "source": [
    "<h3>Exercício 2"
   ]
  },
  {
   "cell_type": "code",
   "execution_count": 4,
   "metadata": {},
   "outputs": [
    {
     "name": "stdin",
     "output_type": "stream",
     "text": [
      "What's your name? Tarek\n"
     ]
    },
    {
     "name": "stdout",
     "output_type": "stream",
     "text": [
      "Hello, Tarek\n"
     ]
    }
   ],
   "source": [
    "name = input(\"What's your name?\")\n",
    "print('Hello, %s' % name)"
   ]
  },
  {
   "cell_type": "markdown",
   "metadata": {},
   "source": [
    "<h3>Exercício 3"
   ]
  },
  {
   "cell_type": "code",
   "execution_count": 22,
   "metadata": {},
   "outputs": [
    {
     "name": "stdin",
     "output_type": "stream",
     "text": [
      "Width:  2\n",
      "Length:  3\n"
     ]
    },
    {
     "name": "stdout",
     "output_type": "stream",
     "text": [
      "Area: 6.00\n"
     ]
    }
   ],
   "source": [
    "x = float(input('Width: '))\n",
    "y = float(input('Length: '))\n",
    "print('Area: %.2f' % (x * y))"
   ]
  },
  {
   "cell_type": "markdown",
   "metadata": {},
   "source": [
    "<h3>Exercício 4"
   ]
  },
  {
   "cell_type": "code",
   "execution_count": 27,
   "metadata": {},
   "outputs": [
    {
     "name": "stdin",
     "output_type": "stream",
     "text": [
      "Width:  100\n",
      "Length:  100\n"
     ]
    },
    {
     "name": "stdout",
     "output_type": "stream",
     "text": [
      "Area: 2.4710 acres\n"
     ]
    }
   ],
   "source": [
    "x = float(input('Width: '))\n",
    "y = float(input('Length: '))\n",
    "print('Area: %.4f acres' % (x * y * 0.000247105))"
   ]
  },
  {
   "cell_type": "markdown",
   "metadata": {},
   "source": [
    "<h3>Exercício 5"
   ]
  },
  {
   "cell_type": "code",
   "execution_count": 20,
   "metadata": {},
   "outputs": [
    {
     "name": "stdin",
     "output_type": "stream",
     "text": [
      "One liter or less:  10\n",
      "More than a liter:  2\n"
     ]
    },
    {
     "name": "stdout",
     "output_type": "stream",
     "text": [
      "Total refund: $1.50\n"
     ]
    }
   ],
   "source": [
    "x = float(input('One liter or less: '))\n",
    "y = float(input('More than a liter: '))\n",
    "refund = x * 0.1 + y * 0.25\n",
    "print('Total refund: $%.2f' % refund)"
   ]
  },
  {
   "cell_type": "markdown",
   "metadata": {},
   "source": [
    "<h3>Exercício 6"
   ]
  },
  {
   "cell_type": "code",
   "execution_count": 35,
   "metadata": {},
   "outputs": [
    {
     "name": "stdin",
     "output_type": "stream",
     "text": [
      "Meal price: $ 35.99\n"
     ]
    },
    {
     "name": "stdout",
     "output_type": "stream",
     "text": [
      "\n",
      "Tip: $6.48 \n",
      "Tax: $5.40 \n",
      "Total: $47.87\n"
     ]
    }
   ],
   "source": [
    "meal_price = float(input('Meal price: $'))\n",
    "tip = meal_price * .18\n",
    "tax = meal_price * .15\n",
    "print('\\nTip: $%.2f \\nTax: $%.2f \\nTotal: $%.2f' % (tip, tax, meal_price + tip + tax))"
   ]
  },
  {
   "cell_type": "markdown",
   "metadata": {},
   "source": [
    "<h3>Exercício 7"
   ]
  },
  {
   "cell_type": "code",
   "execution_count": 37,
   "metadata": {},
   "outputs": [
    {
     "name": "stdin",
     "output_type": "stream",
     "text": [
      "n:  100\n"
     ]
    },
    {
     "name": "stdout",
     "output_type": "stream",
     "text": [
      "5050.0\n"
     ]
    }
   ],
   "source": [
    "n = int(input('n: '))\n",
    "sum_n = n*(n + 1) / 2\n",
    "print(sum_n)"
   ]
  },
  {
   "cell_type": "markdown",
   "metadata": {},
   "source": [
    "<h3>Exercício 11"
   ]
  },
  {
   "cell_type": "code",
   "execution_count": 40,
   "metadata": {},
   "outputs": [
    {
     "name": "stdin",
     "output_type": "stream",
     "text": [
      "MPG:  100\n"
     ]
    },
    {
     "name": "stdout",
     "output_type": "stream",
     "text": [
      "42.51\n"
     ]
    }
   ],
   "source": [
    "mpg = float(input('MPG: '))\n",
    "converted = mpg / 3.78541 * 1.60934\n",
    "print(round(converted, 2))"
   ]
  },
  {
   "cell_type": "markdown",
   "metadata": {},
   "source": [
    "<h3>Exercício 12"
   ]
  },
  {
   "cell_type": "code",
   "execution_count": 43,
   "metadata": {},
   "outputs": [
    {
     "name": "stdin",
     "output_type": "stream",
     "text": [
      "p1 lat:  10\n",
      "p1 long:  15\n",
      "p2 lat:  10\n",
      "p2 long:  17\n"
     ]
    },
    {
     "name": "stdout",
     "output_type": "stream",
     "text": [
      "Distância: 9988.61\n"
     ]
    }
   ],
   "source": [
    "from math import radians, acos, sin, cos\n",
    "\n",
    "p1 = {}\n",
    "p2 = {}\n",
    "p1['lat']  = float(input('p1 lat: '))\n",
    "p1['long'] = float(input('p1 long: '))\n",
    "p2['lat']  = float(input('p2 lat: '))\n",
    "p2['long'] = float(input('p2 long: '))\n",
    "\n",
    "distance = 6371.01 * acos(sin(p1['lat']) * sin(p2['lat']) + cos(p1['lat']) * cos(p2['lat']) * cos(p1['long'] - p2['long']))\n",
    "print('Distância: %.2f' % distance)"
   ]
  },
  {
   "cell_type": "markdown",
   "metadata": {},
   "source": [
    "<h3>Exercício 13"
   ]
  },
  {
   "cell_type": "code",
   "execution_count": 56,
   "metadata": {},
   "outputs": [
    {
     "name": "stdin",
     "output_type": "stream",
     "text": [
      "Change:  3.99\n"
     ]
    },
    {
     "name": "stdout",
     "output_type": "stream",
     "text": [
      "3 em moedas de 1 real\n",
      "1 em moedas de 50 centavos\n",
      "1 em moedas de 25 centavos\n",
      "2 em moedas de 10 centavos\n",
      "0 em moedas de 5 centavos\n",
      "4 em moedas de 1 centavo\n"
     ]
    }
   ],
   "source": [
    "change = float(input('Change: '))\n",
    "print('%d em moedas de 1 real' % (change // 1))\n",
    "change = change % 1\n",
    "print('%d em moedas de 50 centavos' % (change // 0.5))\n",
    "change = change % 0.5\n",
    "print('%d em moedas de 25 centavos' % (change // 0.25))\n",
    "change = change % .25\n",
    "print('%d em moedas de 10 centavos' % (change // 0.10))\n",
    "change = change % .1\n",
    "print('%d em moedas de 5 centavos' % (change // 0.05))\n",
    "change = change % .05\n",
    "print('%d em moedas de 1 centavo' % (change // 0.01))"
   ]
  },
  {
   "cell_type": "markdown",
   "metadata": {},
   "source": [
    "<h3>Exercício 31"
   ]
  },
  {
   "cell_type": "code",
   "execution_count": 61,
   "metadata": {},
   "outputs": [
    {
     "name": "stdin",
     "output_type": "stream",
     "text": [
      "Four digit number:  1234\n"
     ]
    },
    {
     "name": "stdout",
     "output_type": "stream",
     "text": [
      "Soma dos algorismos: 10\n"
     ]
    }
   ],
   "source": [
    "n = input('Four digit number: ')\n",
    "soma = int(n[0]) + int(n[1]) + int(n[2]) + int(n[3])\n",
    "print('Soma dos algorismos: %d' % soma)"
   ]
  },
  {
   "cell_type": "markdown",
   "metadata": {},
   "source": [
    "<h2>If Statements"
   ]
  },
  {
   "cell_type": "markdown",
   "metadata": {},
   "source": [
    "<h3> Exercício 34"
   ]
  },
  {
   "cell_type": "code",
   "execution_count": 67,
   "metadata": {},
   "outputs": [
    {
     "name": "stdin",
     "output_type": "stream",
     "text": [
      "Número:  14556\n"
     ]
    },
    {
     "name": "stdout",
     "output_type": "stream",
     "text": [
      "Par\n"
     ]
    }
   ],
   "source": [
    "n = int(input('Número: '))\n",
    "if n % 2 == 0:\n",
    "    print('Par')\n",
    "else:\n",
    "    print('Impar')"
   ]
  },
  {
   "cell_type": "markdown",
   "metadata": {},
   "source": [
    "<h3> Exercício 38"
   ]
  },
  {
   "cell_type": "code",
   "execution_count": 4,
   "metadata": {},
   "outputs": [
    {
     "name": "stdin",
     "output_type": "stream",
     "text": [
      "Mês:  Fevereiro\n"
     ]
    },
    {
     "name": "stdout",
     "output_type": "stream",
     "text": [
      "28\n"
     ]
    }
   ],
   "source": [
    "month = input('Mês: ')\n",
    "meses = {'Janeiro': 31, 'Fevereiro': 28, 'Março': 31}\n",
    "print(meses[month])"
   ]
  },
  {
   "cell_type": "markdown",
   "metadata": {},
   "source": [
    "<h3> Exercício 45"
   ]
  },
  {
   "cell_type": "code",
   "execution_count": 11,
   "metadata": {},
   "outputs": [
    {
     "name": "stdin",
     "output_type": "stream",
     "text": [
      "Posição:  a2\n"
     ]
    },
    {
     "name": "stdout",
     "output_type": "stream",
     "text": [
      "White\n"
     ]
    }
   ],
   "source": [
    "pos = input('Posição: ')\n",
    "\n",
    "c = 0\n",
    "r = 0\n",
    "if int(pos[1]) % 2 != 0:\n",
    "    c += 1\n",
    "\n",
    "if pos[0] in ['a', 'c', 'e', 'g']:\n",
    "    r += 1\n",
    "    \n",
    "if c * r == 1:\n",
    "    print('Black')\n",
    "else:\n",
    "    print('White')"
   ]
  },
  {
   "cell_type": "markdown",
   "metadata": {},
   "source": [
    "<h2> Loop"
   ]
  },
  {
   "cell_type": "markdown",
   "metadata": {},
   "source": [
    "<h3> Exercício 61"
   ]
  },
  {
   "cell_type": "code",
   "execution_count": 23,
   "metadata": {},
   "outputs": [
    {
     "name": "stdin",
     "output_type": "stream",
     "text": [
      "Número 1:  1\n",
      "Número 2:  1\n",
      "Número 3:  0\n"
     ]
    },
    {
     "name": "stdout",
     "output_type": "stream",
     "text": [
      "Média: 1.00\n"
     ]
    }
   ],
   "source": [
    "n = 1\n",
    "ns = float(input('Número %d: ' % n))\n",
    "sum_ = 0\n",
    "\n",
    "while ns != 0:\n",
    "    sum_ += ns\n",
    "    n += 1\n",
    "    ns = float(input('Número %d: ' % n))\n",
    "    \n",
    "print('Média: %.2f' % (sum_/(n-1)))"
   ]
  },
  {
   "cell_type": "markdown",
   "metadata": {},
   "source": [
    "<h3> Exercício 70"
   ]
  },
  {
   "cell_type": "code",
   "execution_count": 42,
   "metadata": {},
   "outputs": [
    {
     "name": "stdin",
     "output_type": "stream",
     "text": [
      "Texto:  Oi, Tarek\n",
      "Lags:  -1\n"
     ]
    },
    {
     "name": "stdout",
     "output_type": "stream",
     "text": [
      "Nh, Szqdj\n"
     ]
    }
   ],
   "source": [
    "message = input('Texto: ')\n",
    "n = int(input('Lags: '))\n",
    "alph = 'abcdefghijklmnopqrstuvwxyz'\n",
    "result = ''\n",
    "for i in message:\n",
    "    if i.isupper():\n",
    "        result += alph[alph.index(i.lower()) + n].upper()\n",
    "    elif i.islower():\n",
    "        result += alph[alph.index(i) + n]\n",
    "    else:\n",
    "        result += i\n",
    "print(result)"
   ]
  },
  {
   "cell_type": "markdown",
   "metadata": {},
   "source": [
    "<h3>Exercício 71"
   ]
  },
  {
   "cell_type": "code",
   "execution_count": 57,
   "metadata": {},
   "outputs": [
    {
     "name": "stdin",
     "output_type": "stream",
     "text": [
      "Número:  1209102910291\n"
     ]
    },
    {
     "name": "stdout",
     "output_type": "stream",
     "text": [
      "A raiz é: 1099592.1563429779 \n",
      "24 tentativas\n"
     ]
    }
   ],
   "source": [
    "x = int(input('Número: '))\n",
    "guess = x/2\n",
    "\n",
    "n = 0\n",
    "while abs(guess ** 2 - x) > 10 ** (-12):\n",
    "    n += 1\n",
    "    guess = (guess + x/guess) / 2\n",
    "\n",
    "print('A raiz é: %.10f \\n%d tentativas' % (guess, n))"
   ]
  },
  {
   "cell_type": "markdown",
   "metadata": {},
   "source": [
    "<h3>Exercício 77"
   ]
  },
  {
   "cell_type": "code",
   "execution_count": 91,
   "metadata": {},
   "outputs": [
    {
     "name": "stdin",
     "output_type": "stream",
     "text": [
      "Binário:  1101011010\n"
     ]
    },
    {
     "name": "stdout",
     "output_type": "stream",
     "text": [
      "858\n"
     ]
    }
   ],
   "source": [
    "# binary to decimal\n",
    "\n",
    "binary = input('Binário: ')\n",
    "decimal = 0\n",
    "\n",
    "for i, b in enumerate(binary[::-1]):\n",
    "    decimal += int(b) * 2 ** i\n",
    "        \n",
    "print(decimal)"
   ]
  },
  {
   "cell_type": "markdown",
   "metadata": {},
   "source": [
    "<h3>Exercício 78"
   ]
  },
  {
   "cell_type": "code",
   "execution_count": 104,
   "metadata": {},
   "outputs": [
    {
     "name": "stdin",
     "output_type": "stream",
     "text": [
      "Decimal:  666\n"
     ]
    },
    {
     "name": "stdout",
     "output_type": "stream",
     "text": [
      "1010011010\n"
     ]
    }
   ],
   "source": [
    "# decimal to binary\n",
    "\n",
    "decimal = int(input('Decimal: '))\n",
    "binary = ''\n",
    "\n",
    "while decimal != 0:\n",
    "    r = decimal % 2\n",
    "    binary = str(r) + binary\n",
    "    decimal //= 2\n",
    "\n",
    "print(binary)"
   ]
  },
  {
   "cell_type": "markdown",
   "metadata": {},
   "source": [
    "<h3>Exercício 80"
   ]
  },
  {
   "cell_type": "code",
   "execution_count": 37,
   "metadata": {},
   "outputs": [
    {
     "name": "stdout",
     "output_type": "stream",
     "text": [
      "['H', 'T', 'H', 'H', 'T', 'T', 'H', 'T', 'H', 'H', 'T', 'T', 'H', 'T', 'T', 'H', 'H', 'T', 'H', 'T', 'T', 'H', 'T', 'H', 'T', 'T', 'T'] 27\n",
      "['T', 'T', 'H', 'T', 'T', 'H', 'T', 'T', 'H', 'T', 'H', 'T', 'T', 'T'] 14\n",
      "['H', 'H', 'H'] 3\n",
      "['H', 'T', 'H', 'H', 'H'] 5\n",
      "['T', 'T', 'H', 'T', 'T', 'H', 'T', 'T', 'H', 'H', 'H'] 11\n",
      "['H', 'H', 'T', 'T', 'H', 'T', 'T', 'H', 'H', 'T', 'H', 'H', 'T', 'T', 'T'] 15\n",
      "['T', 'T', 'H', 'T', 'T', 'T'] 6\n",
      "['T', 'T', 'T'] 3\n",
      "['T', 'H', 'T', 'T', 'H', 'H', 'T', 'T', 'T'] 9\n",
      "['H', 'H', 'T', 'H', 'H', 'H'] 6\n",
      "Média: 9.90\n"
     ]
    }
   ],
   "source": [
    "import random\n",
    "\n",
    "coin = ['T', 'H']\n",
    "\n",
    "res = []\n",
    "n = []\n",
    "for i in range(10):\n",
    "    res.append([])\n",
    "    res[i].extend(random.choices(coin, k=3))\n",
    "    n_ = 3\n",
    "    while True:\n",
    "        if not 'T' in res[i][-3:] or not 'H' in res[i][-3:]:\n",
    "            n.append(n_)\n",
    "            break\n",
    "        res[i].append(random.choice(coin))\n",
    "        n_ += 1\n",
    "    \n",
    "media = 0\n",
    "for i, z in enumerate(res):\n",
    "    print(z, n[i])\n",
    "    media += n[i]\n",
    "    \n",
    "print('Média: %.2f' % (media / 10))"
   ]
  },
  {
   "cell_type": "markdown",
   "metadata": {},
   "source": [
    "<h2>Functions"
   ]
  },
  {
   "cell_type": "markdown",
   "metadata": {},
   "source": [
    "<h3>Exercício 81"
   ]
  },
  {
   "cell_type": "code",
   "execution_count": 62,
   "metadata": {},
   "outputs": [
    {
     "name": "stdin",
     "output_type": "stream",
     "text": [
      "Lado 1:  3\n",
      "Lado 2:  4\n"
     ]
    },
    {
     "name": "stdout",
     "output_type": "stream",
     "text": [
      "Hypotenuse: 5.00\n"
     ]
    }
   ],
   "source": [
    "import math\n",
    "\n",
    "def calc_hypotenuse(lado1, lado2):\n",
    "    return math.sqrt(lado1 ** 2 + lado2 ** 2)\n",
    "\n",
    "def user_input():\n",
    "    lado1 = float(input('Lado 1: '))\n",
    "    lado2 = float(input('Lado 2: '))\n",
    "    res = calc_hypotenuse(lado1, lado2)\n",
    "    print('Hypotenuse: %.2f' % res)\n",
    "    \n",
    "user_input()"
   ]
  },
  {
   "cell_type": "markdown",
   "metadata": {},
   "source": [
    "<h3>Exercício 88"
   ]
  },
  {
   "cell_type": "code",
   "execution_count": 71,
   "metadata": {},
   "outputs": [
    {
     "data": {
      "text/plain": [
       "True"
      ]
     },
     "execution_count": 71,
     "metadata": {},
     "output_type": "execute_result"
    }
   ],
   "source": [
    "def is_triangle(len1, len2, len3):\n",
    "    if max(len1, len2, len3) >= len1 + len2 + len3 - max(len1, len2, len3):\n",
    "        return False\n",
    "    else:\n",
    "        return True\n",
    "    \n",
    "is_triangle(7, 10, 5)"
   ]
  },
  {
   "cell_type": "markdown",
   "metadata": {},
   "source": [
    "<h3>Exercício 94"
   ]
  },
  {
   "cell_type": "code",
   "execution_count": 138,
   "metadata": {},
   "outputs": [
    {
     "data": {
      "text/plain": [
       "\"~8Pr$(X'Z8\""
      ]
     },
     "execution_count": 138,
     "metadata": {},
     "output_type": "execute_result"
    }
   ],
   "source": [
    "import random\n",
    "\n",
    "def create_password(n=random.choice([7, 10])):\n",
    "    choices = random.choices(range(33, 127), k=n)\n",
    "    password = ''\n",
    "    for s in choices:\n",
    "        password += chr(s)\n",
    "    \n",
    "    return password\n",
    "\n",
    "create_password(10)"
   ]
  },
  {
   "cell_type": "markdown",
   "metadata": {},
   "source": [
    "<h3>Exercício 95"
   ]
  },
  {
   "cell_type": "code",
   "execution_count": 190,
   "metadata": {},
   "outputs": [
    {
     "data": {
      "text/plain": [
       "'VBK-2898'"
      ]
     },
     "execution_count": 190,
     "metadata": {},
     "output_type": "execute_result"
    }
   ],
   "source": [
    "import random\n",
    "\n",
    "def gen_plate():\n",
    "    pos_letters = 'ABCDEFGHIJKLMNOPQRSTUVWXYZ'\n",
    "    \n",
    "    return ''.join(random.choices(pos_letters, k=3)) + '-' + \\\n",
    "           ''.join([str(i) for i in random.choices(range(10), k=4)])\n",
    "\n",
    "gen_plate()"
   ]
  },
  {
   "cell_type": "markdown",
   "metadata": {},
   "source": [
    "<h3>Exercício 101"
   ]
  },
  {
   "cell_type": "code",
   "execution_count": 306,
   "metadata": {},
   "outputs": [
    {
     "data": {
      "text/plain": [
       "'20/1'"
      ]
     },
     "execution_count": 306,
     "metadata": {},
     "output_type": "execute_result"
    }
   ],
   "source": [
    "def reduce_frac(num, den):\n",
    "    \n",
    "    for i in [2, 3, 5, 7]:\n",
    "        while True:\n",
    "            if num % i == 0 and den % i == 0:\n",
    "                num /= i\n",
    "                den /= i\n",
    "            else:\n",
    "                break\n",
    "    \n",
    "    return '%d/%d' % (num, den)\n",
    "\n",
    "reduce_frac(400, 20)"
   ]
  },
  {
   "cell_type": "markdown",
   "metadata": {},
   "source": [
    "<h2>List"
   ]
  },
  {
   "cell_type": "markdown",
   "metadata": {},
   "source": [
    "<h3>Exercícios 104"
   ]
  },
  {
   "cell_type": "code",
   "execution_count": 341,
   "metadata": {
    "collapsed": true,
    "jupyter": {
     "outputs_hidden": true
    }
   },
   "outputs": [
    {
     "data": {
      "text/plain": [
       "['3D',\n",
       " 'AD',\n",
       " 'AS',\n",
       " '6D',\n",
       " 'KC',\n",
       " '10H',\n",
       " '7C',\n",
       " 'JC',\n",
       " 'AC',\n",
       " '9S',\n",
       " '9D',\n",
       " '2H',\n",
       " 'QH',\n",
       " '10D',\n",
       " 'KD',\n",
       " '4D',\n",
       " '2S',\n",
       " 'KH',\n",
       " '7D',\n",
       " '10C',\n",
       " '7S',\n",
       " '5C',\n",
       " '7H',\n",
       " '6C',\n",
       " '5S',\n",
       " '4C',\n",
       " 'QC',\n",
       " 'JS',\n",
       " '3H',\n",
       " '2D',\n",
       " 'QS',\n",
       " 'KS',\n",
       " 'JD',\n",
       " '4S',\n",
       " '8C',\n",
       " 'JH',\n",
       " '2C',\n",
       " '4H',\n",
       " '5D',\n",
       " 'AH',\n",
       " '10S',\n",
       " '8S',\n",
       " '3C',\n",
       " '5H',\n",
       " '6H',\n",
       " '9H',\n",
       " '3S',\n",
       " '6S',\n",
       " '8D',\n",
       " 'QD',\n",
       " '9C',\n",
       " '8H']"
      ]
     },
     "execution_count": 341,
     "metadata": {},
     "output_type": "execute_result"
    }
   ],
   "source": [
    "import random\n",
    "\n",
    "def createDeck():\n",
    "    pos_1 = [str(i) for i in range(2, 11)]\n",
    "    pos_1.extend(['J', 'Q', 'K', 'A'])\n",
    "    suits = ['S', 'H', 'D', 'C']\n",
    "    return [i+s for i in pos_1 for s in suits]\n",
    "\n",
    "deck = createDeck()\n",
    "\n",
    "def shuffle(deck):\n",
    "    for i in deck:\n",
    "        r = random.choice(range(52))\n",
    "        deck[deck.index(i)] = deck[r] \n",
    "        deck[r] = i\n",
    "    return deck\n",
    "\n",
    "deck_shuffled = shuffle(deck)\n",
    "deck_shuffled"
   ]
  },
  {
   "cell_type": "markdown",
   "metadata": {},
   "source": [
    "<h3>Exercício 119"
   ]
  },
  {
   "cell_type": "code",
   "execution_count": 433,
   "metadata": {},
   "outputs": [
    {
     "data": {
      "text/plain": [
       "[['5H', '10D', '6S', 'JC', 'KH', '3D', '8D'],\n",
       " ['9C', '5D', 'QD', 'QC', 'AH', 'QH', '3H'],\n",
       " ['7S', '7C', '2H', '8S', '2D', '7D', 'JH'],\n",
       " ['AS', 'QS', '2C', '6D', 'AD', 'AC', '5S']]"
      ]
     },
     "execution_count": 433,
     "metadata": {},
     "output_type": "execute_result"
    }
   ],
   "source": [
    "def deal(deck, n_players, cards_player):\n",
    "    deck = shuffle(deck)\n",
    "    players_hand = [[] for i in range(n_players)]\n",
    "    p = 0\n",
    "    deck_ = deck.copy()\n",
    "    for card in deck:\n",
    "        deck_.remove(card)\n",
    "        players_hand[p].append(card)\n",
    "        p += 1\n",
    "        if p == n_players:\n",
    "            p = 0\n",
    "        if len(players_hand[-1]) == cards_player:\n",
    "            break\n",
    "        \n",
    "    return players_hand, deck_\n",
    "\n",
    "deck = createDeck()\n",
    "players_hand, rest = deal(deck, 4, 7)\n",
    "players_hand"
   ]
  },
  {
   "cell_type": "markdown",
   "metadata": {},
   "source": [
    "<h3>Exercícios 126"
   ]
  },
  {
   "cell_type": "code",
   "execution_count": 474,
   "metadata": {},
   "outputs": [
    {
     "data": {
      "text/plain": [
       "[[], [1], [2], [3], [1, 2], [2, 3], [1, 2, 3]]"
      ]
     },
     "execution_count": 474,
     "metadata": {},
     "output_type": "execute_result"
    }
   ],
   "source": [
    "def create_sublists(lista):\n",
    "    sublistas = []\n",
    "    for i in range(len(lista)+1):\n",
    "        for j in range(len(lista)+1):\n",
    "            if not lista[i:j] in sublistas:\n",
    "                sublistas.append(lista[i:j])\n",
    "                \n",
    "    return sorted(sublistas, key=len)\n",
    "\n",
    "create_sublists([1, 2, 3])"
   ]
  },
  {
   "cell_type": "markdown",
   "metadata": {},
   "source": [
    "<h2>Dictionary"
   ]
  },
  {
   "cell_type": "markdown",
   "metadata": {},
   "source": [
    "<h3>Exercício 128"
   ]
  },
  {
   "cell_type": "code",
   "execution_count": 480,
   "metadata": {},
   "outputs": [
    {
     "data": {
      "text/plain": [
       "['Nome', 'Teste']"
      ]
     },
     "execution_count": 480,
     "metadata": {},
     "output_type": "execute_result"
    }
   ],
   "source": [
    "def reverse_lookup(dic, value):\n",
    "    match = []\n",
    "    for i in dic:\n",
    "        if dic[i] == value:\n",
    "            match.append(i)\n",
    "            \n",
    "    return match\n",
    "\n",
    "dic_test = {'Nome': 'Tarek', 'Idade': 22, 'Teste': 'Tarek'}\n",
    "reverse_lookup(dic_test, 'Tarek')"
   ]
  },
  {
   "cell_type": "markdown",
   "metadata": {},
   "source": [
    "<h3>Exercício 129"
   ]
  },
  {
   "cell_type": "code",
   "execution_count": 528,
   "metadata": {},
   "outputs": [
    {
     "name": "stdout",
     "output_type": "stream",
     "text": [
      "Total \tSimulated \tPercent\n",
      "2 \t26 \t\t2.60%\n",
      "3 \t54 \t\t5.40%\n",
      "4 \t94 \t\t9.40%\n",
      "5 \t90 \t\t9.00%\n",
      "6 \t169 \t\t16.90%\n",
      "7 \t163 \t\t16.30%\n",
      "8 \t133 \t\t13.30%\n",
      "9 \t99 \t\t9.90%\n",
      "10 \t91 \t\t9.10%\n",
      "11 \t59 \t\t5.90%\n",
      "12 \t22 \t\t2.20%\n"
     ]
    }
   ],
   "source": [
    "import random\n",
    "\n",
    "def simulate(n_times=1000, n_dice=2, sides=6):\n",
    "    resultados = {}\n",
    "    for i in range(n_times):\n",
    "        x = 0\n",
    "        for j in range(n_dice):\n",
    "            x += random.choice(range(1, sides+1))\n",
    "            \n",
    "        if not x in resultados: \n",
    "            resultados[x] = 1\n",
    "        else:\n",
    "            resultados[x] += 1\n",
    "    \n",
    "    print('Total \\tSimulated \\tPercent')\n",
    "    for k in sorted(resultados):\n",
    "        print('%d \\t%d \\t\\t%.2f' % (k, resultados[k], resultados[k]/n_times*100) + '%')\n",
    "    return resultados\n",
    "\n",
    "res = simulate()"
   ]
  },
  {
   "cell_type": "markdown",
   "metadata": {},
   "source": [
    "<h3>Exercício 130"
   ]
  },
  {
   "cell_type": "code",
   "execution_count": 559,
   "metadata": {},
   "outputs": [
    {
     "data": {
      "text/plain": [
       "'4433555555666110966677755531111'"
      ]
     },
     "execution_count": 559,
     "metadata": {},
     "output_type": "execute_result"
    }
   ],
   "source": [
    "keys = \\\n",
    "{1: '.,?!:', 2: 'ABC', 3: 'DEF', 4: 'GHI', 5: 'JKL', \n",
    " 6: 'MNO', 7: 'PQRS', 8: 'TUV', 9: 'WXYZ', 0: ' '}\n",
    "\n",
    "def text_to_key(text):\n",
    "    resp = ''\n",
    "    for i in text:\n",
    "        for k in keys:\n",
    "            if i.upper() in keys[k]:\n",
    "                resp += (keys[k].index(i.upper()) + 1) * str(k)\n",
    "                \n",
    "    return resp\n",
    "\n",
    "text_to_key('Hello, World!')"
   ]
  },
  {
   "cell_type": "markdown",
   "metadata": {},
   "source": [
    "<h2>Recursion"
   ]
  },
  {
   "cell_type": "markdown",
   "metadata": {},
   "source": [
    "<h3>Exercício 164"
   ]
  },
  {
   "cell_type": "code",
   "execution_count": 570,
   "metadata": {},
   "outputs": [
    {
     "name": "stdin",
     "output_type": "stream",
     "text": [
      "Número:  2\n",
      "Número:  2\n",
      "Número:  -4\n",
      "Número:  0\n"
     ]
    },
    {
     "data": {
      "text/plain": [
       "0.0"
      ]
     },
     "execution_count": 570,
     "metadata": {},
     "output_type": "execute_result"
    }
   ],
   "source": [
    "def calc_total():\n",
    "    total = 0\n",
    "    x = float(input('Número: '))\n",
    "    if x == 0:\n",
    "        return 0\n",
    "    else:\n",
    "        return x + calc_total()\n",
    "        \n",
    "calc_total()"
   ]
  }
 ],
 "metadata": {
  "kernelspec": {
   "display_name": "Python 3",
   "language": "python",
   "name": "python3"
  },
  "language_info": {
   "codemirror_mode": {
    "name": "ipython",
    "version": 3
   },
   "file_extension": ".py",
   "mimetype": "text/x-python",
   "name": "python",
   "nbconvert_exporter": "python",
   "pygments_lexer": "ipython3",
   "version": "3.7.4"
  }
 },
 "nbformat": 4,
 "nbformat_minor": 4
}
